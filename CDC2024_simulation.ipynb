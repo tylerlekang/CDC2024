{
 "cells": [
  {
   "cell_type": "code",
   "execution_count": 1,
   "metadata": {},
   "outputs": [
    {
     "name": "stdout",
     "output_type": "stream",
     "text": [
      "python: 3.12.4\n",
      "numpy: 1.26.4\n",
      "matplotlib: 3.8.4\n"
     ]
    }
   ],
   "source": [
    "import platform; print('python:',platform.python_version()); del platform # just for version\n",
    "import numpy as np; print('numpy:',np.__version__); np.set_printoptions(precision=4,suppress=True)\n",
    "import matplotlib as mpl; print('matplotlib:',mpl.__version__)\n",
    "import matplotlib.pyplot as plt"
   ]
  }
 ],
 "metadata": {
  "kernelspec": {
   "display_name": "tyler_py312",
   "language": "python",
   "name": "python3"
  },
  "language_info": {
   "codemirror_mode": {
    "name": "ipython",
    "version": 3
   },
   "file_extension": ".py",
   "mimetype": "text/x-python",
   "name": "python",
   "nbconvert_exporter": "python",
   "pygments_lexer": "ipython3",
   "version": "3.12.4"
  }
 },
 "nbformat": 4,
 "nbformat_minor": 2
}
